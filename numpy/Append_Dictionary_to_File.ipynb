{
  "nbformat": 4,
  "nbformat_minor": 0,
  "metadata": {
    "colab": {
      "name": "Append_Dictionary_to_File.ipynb",
      "provenance": [],
      "authorship_tag": "ABX9TyMIcxrKIUNYZ2C6dzvzHIF1",
      "include_colab_link": true
    },
    "kernelspec": {
      "name": "python3",
      "display_name": "Python 3"
    }
  },
  "cells": [
    {
      "cell_type": "markdown",
      "metadata": {
        "id": "view-in-github",
        "colab_type": "text"
      },
      "source": [
        "<a href=\"https://colab.research.google.com/github/restrepo/PythonTipsAndTricks/blob/master/numpy/Append_Dictionary_to_File.ipynb\" target=\"_parent\"><img src=\"https://colab.research.google.com/assets/colab-badge.svg\" alt=\"Open In Colab\"/></a>"
      ]
    },
    {
      "cell_type": "markdown",
      "metadata": {
        "id": "WWvEijTHy0h7",
        "colab_type": "text"
      },
      "source": [
        "# Append list of Python dictionaries to a file without loading it\n",
        "From: https://stackoverflow.com/a/36246957/2268280\n",
        "\n",
        "If you are looking to not actually **load** the file, going about this with `json` is not really the right approach.  You could use a memory mapped file… and never actually load the file to memory -- a `memmap` array can open the file and build an array \"on-disk\" without loading anything into memory.\n",
        "\n",
        "Create a memory-mapped array of dicts:"
      ]
    },
    {
      "cell_type": "code",
      "metadata": {
        "id": "x8xEJdmEyt5l",
        "colab_type": "code",
        "colab": {}
      },
      "source": [
        ">>> import numpy as np\n",
        ">>> a = np.memmap('mydict.dat', dtype=object, mode='w+', shape=(4,))\n",
        ">>> a[0] = {'name':\"Joe\", 'data':[1,2,3,4]}\n",
        ">>> a[1] = {'name':\"Guido\", 'data':[1,3,3,5]}\n",
        ">>> a[2] = {'name':\"Fernando\", 'data':[4,2,6,9]}\n",
        ">>> a[3] = {'name':\"Jill\", 'data':[9,1,9,0]}\n",
        ">>> a.flush()\n",
        ">>> del a"
      ],
      "execution_count": 0,
      "outputs": []
    },
    {
      "cell_type": "markdown",
      "metadata": {
        "id": "jo9L7zDjywWf",
        "colab_type": "text"
      },
      "source": [
        "Now read the array, without loading the file:"
      ]
    },
    {
      "cell_type": "code",
      "metadata": {
        "id": "3QOt97QczYm-",
        "colab_type": "code",
        "colab": {}
      },
      "source": [
        "a = np.memmap('mydict.dat', dtype=object, mode='r')"
      ],
      "execution_count": 0,
      "outputs": []
    },
    {
      "cell_type": "markdown",
      "metadata": {
        "id": "CUnaWhfkzbPu",
        "colab_type": "text"
      },
      "source": [
        "The contents of the file are loaded into memory when the list is created, but that's not required -- you can work with the array on-disk without loading it."
      ]
    },
    {
      "cell_type": "code",
      "metadata": {
        "id": "bdTv-Ps9zpwd",
        "colab_type": "code",
        "colab": {
          "base_uri": "https://localhost:8080/",
          "height": 90
        },
        "outputId": "bf057491-12a8-4804-b624-721d2ef68351"
      },
      "source": [
        "a.tolist()"
      ],
      "execution_count": 3,
      "outputs": [
        {
          "output_type": "execute_result",
          "data": {
            "text/plain": [
              "[{'data': [1, 2, 3, 4], 'name': 'Joe'},\n",
              " {'data': [1, 3, 3, 5], 'name': 'Guido'},\n",
              " {'data': [4, 2, 6, 9], 'name': 'Fernando'},\n",
              " {'data': [9, 1, 9, 0], 'name': 'Jill'}]"
            ]
          },
          "metadata": {
            "tags": []
          },
          "execution_count": 3
        }
      ]
    },
    {
      "cell_type": "markdown",
      "metadata": {
        "id": "undsGo4SzrmC",
        "colab_type": "text"
      },
      "source": [
        "It takes a negligible amount of time (e.g. nanoseconds) to create a memory-mapped array that can index a file regardless of size (e.g. 100 GB) of the file."
      ]
    }
  ]
}