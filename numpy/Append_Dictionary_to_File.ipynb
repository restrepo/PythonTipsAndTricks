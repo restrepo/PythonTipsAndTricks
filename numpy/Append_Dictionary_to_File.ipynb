{
 "cells": [
  {
   "cell_type": "markdown",
   "metadata": {
    "colab_type": "text",
    "id": "view-in-github"
   },
   "source": [
    "<a href=\"https://colab.research.google.com/github/restrepo/PythonTipsAndTricks/blob/master/numpy/Append_Dictionary_to_File.ipynb\" target=\"_parent\"><img src=\"https://colab.research.google.com/assets/colab-badge.svg\" alt=\"Open In Colab\"/></a>"
   ]
  },
  {
   "cell_type": "markdown",
   "metadata": {
    "colab_type": "text",
    "id": "WWvEijTHy0h7"
   },
   "source": [
    "# Append list of Python dictionaries to a file without loading it\n",
    "From: https://stackoverflow.com/a/36246957/2268280\n",
    "\n",
    "If you are looking to not actually **load** the file, going about this with `json` is not really the right approach.  You could use a memory mapped file… and never actually load the file to memory -- a `memmap` array can open the file and build an array \"on-disk\" without loading anything into memory.\n",
    "\n",
    "Create a memory-mapped array of dicts:"
   ]
  },
  {
   "cell_type": "code",
   "execution_count": 1,
   "metadata": {
    "colab": {},
    "colab_type": "code",
    "id": "x8xEJdmEyt5l"
   },
   "outputs": [],
   "source": [
    "import numpy as np\n",
    "a = np.memmap('mydict.dat', dtype=object, mode='w+', shape=(4,))\n",
    "a[0] = {'name':\"Joe\", 'data':[1,2,3,4]}\n",
    "a[1] = {'name':\"Guido\", 'data':[1,3,3,5]}\n",
    "a[2] = {'name':\"Fernando\", 'data':[4,2,6,9]}\n",
    "a[3] = {'name':\"Jill\", 'data':[9,1,9,0]}\n",
    "a.flush()\n",
    "del a"
   ]
  },
  {
   "cell_type": "markdown",
   "metadata": {
    "colab_type": "text",
    "id": "jo9L7zDjywWf"
   },
   "source": [
    "Now read the array, without loading the file:"
   ]
  },
  {
   "cell_type": "code",
   "execution_count": 2,
   "metadata": {
    "colab": {},
    "colab_type": "code",
    "id": "3QOt97QczYm-"
   },
   "outputs": [],
   "source": [
    "a = np.memmap('mydict.dat', dtype=object, mode='r')"
   ]
  },
  {
   "cell_type": "markdown",
   "metadata": {
    "colab_type": "text",
    "id": "CUnaWhfkzbPu"
   },
   "source": [
    "The contents of the file are loaded into memory when the list is created, but that's not required -- you can work with the array on-disk without loading it."
   ]
  },
  {
   "cell_type": "code",
   "execution_count": 3,
   "metadata": {
    "colab": {
     "base_uri": "https://localhost:8080/",
     "height": 90
    },
    "colab_type": "code",
    "id": "bdTv-Ps9zpwd",
    "outputId": "bf057491-12a8-4804-b624-721d2ef68351"
   },
   "outputs": [
    {
     "data": {
      "text/plain": [
       "[{'name': 'Joe', 'data': [1, 2, 3, 4]},\n",
       " {'name': 'Guido', 'data': [1, 3, 3, 5]},\n",
       " {'name': 'Fernando', 'data': [4, 2, 6, 9]},\n",
       " {'name': 'Jill', 'data': [9, 1, 9, 0]}]"
      ]
     },
     "execution_count": 3,
     "metadata": {},
     "output_type": "execute_result"
    }
   ],
   "source": [
    "a.tolist()"
   ]
  },
  {
   "cell_type": "markdown",
   "metadata": {
    "colab_type": "text",
    "id": "undsGo4SzrmC"
   },
   "source": [
    "It takes a negligible amount of time (e.g. nanoseconds) to create a memory-mapped array that can index a file regardless of size (e.g. 100 GB) of the file."
   ]
  },
  {
   "cell_type": "markdown",
   "metadata": {
    "colab_type": "text",
    "id": "M12XlV9D1oHj"
   },
   "source": [
    "## Aplications\n",
    "* Filter some data"
   ]
  },
  {
   "cell_type": "code",
   "execution_count": 6,
   "metadata": {
    "colab": {
     "base_uri": "https://localhost:8080/",
     "height": 35
    },
    "colab_type": "code",
    "id": "vJojipVz0qVm",
    "outputId": "00f3d814-8de6-4af5-a658-a3d7b5679ebf"
   },
   "outputs": [
    {
     "data": {
      "text/plain": [
       "[1, 2, 3, 4]"
      ]
     },
     "execution_count": 6,
     "metadata": {
      "tags": []
     },
     "output_type": "execute_result"
    }
   ],
   "source": [
    "a[0]['data']"
   ]
  },
  {
   "cell_type": "markdown",
   "metadata": {
    "colab_type": "text",
    "id": "5pOCH5N90zCo"
   },
   "source": [
    "* Load a file into one memmpap:\n",
    "\n",
    "See [loading csv column into numpy memmap (fast)](https://stackoverflow.com/a/36779509/2268280)\n",
    "\n"
   ]
  },
  {
   "cell_type": "code",
   "execution_count": 0,
   "metadata": {
    "colab": {},
    "colab_type": "code",
    "id": "cPu8vEfl02UE"
   },
   "outputs": [],
   "source": []
  }
 ],
 "metadata": {
  "colab": {
   "authorship_tag": "ABX9TyNDzp7d/tlpRFbpZWUX94Ea",
   "include_colab_link": true,
   "name": "Append_Dictionary_to_File.ipynb",
   "provenance": []
  },
  "kernelspec": {
   "display_name": "Python 3",
   "language": "python",
   "name": "python3"
  },
  "language_info": {
   "codemirror_mode": {
    "name": "ipython",
    "version": 3
   },
   "file_extension": ".py",
   "mimetype": "text/x-python",
   "name": "python",
   "nbconvert_exporter": "python",
   "pygments_lexer": "ipython3",
   "version": "3.7.4"
  }
 },
 "nbformat": 4,
 "nbformat_minor": 1
}
